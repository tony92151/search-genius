{
 "cells": [
  {
   "cell_type": "code",
   "execution_count": null,
   "metadata": {},
   "outputs": [],
   "source": [
    "import os\n",
    "import json\n",
    "from dotenv import load_dotenv\n",
    "load_dotenv()\n",
    "\n",
    "from langchain.embeddings import HuggingFaceEmbeddings, OpenAIEmbeddings, HuggingFaceInstructEmbeddings\n",
    "from langchain.embeddings.base import Embeddings\n",
    "from langchain.text_splitter import CharacterTextSplitter\n",
    "from langchain.vectorstores import FAISS\n",
    "from langchain.document_loaders import TextLoader\n",
    "from langchain.docstore.document import Document\n",
    "\n",
    "from tqdm import tqdm\n",
    "\n",
    "os.environ[\"TOKENIZERS_PARALLELISM\"] = \"false\""
   ]
  },
  {
   "cell_type": "code",
   "execution_count": null,
   "metadata": {},
   "outputs": [],
   "source": [
    "ctags_path = './repo/langchain/libs/langchain/tags'\n",
    "assert os.path.isfile(ctags_path), \"Please run `zsh download_example_rpo.sh` first\""
   ]
  },
  {
   "cell_type": "code",
   "execution_count": null,
   "metadata": {},
   "outputs": [],
   "source": [
    "AZURE_SEARCH_SERVICE = os.environ[\"AZURE_SEARCH_SERVICE\"]\n",
    "AZURE_SEARCH_TINY_INDEX = os.environ[\"AZURE_SEARCH_TINY_INDEX\"]\n",
    "AZURE_SEARCH_BIGGER_INDEX = os.environ[\"AZURE_SEARCH_BIGGER_INDEX\"]"
   ]
  },
  {
   "cell_type": "markdown",
   "metadata": {},
   "source": [
    "## Helper functions"
   ]
  },
  {
   "cell_type": "code",
   "execution_count": null,
   "metadata": {},
   "outputs": [],
   "source": [
    "def read_tags_file(file_path: str) -> list[dict]:\n",
    "    with open(file_path, 'r', errors='ignore') as file:\n",
    "        lines = file.readlines()\n",
    "\n",
    "    tags = []\n",
    "    for line in lines:\n",
    "        if line.startswith('!'):  # Skip metadata lines\n",
    "            continue\n",
    "        parts = line.split('\\t')\n",
    "        if len(parts) >= 4:\n",
    "            tag_name = parts[0]\n",
    "            file_name = parts[1]\n",
    "            pattern = parts[2]\n",
    "            tags.append(dict(tag_name=tag_name, file_name=file_name, pattern=pattern))\n",
    "\n",
    "    return tags"
   ]
  },
  {
   "cell_type": "code",
   "execution_count": null,
   "metadata": {},
   "outputs": [],
   "source": [
    "embeddings = HuggingFaceEmbeddings(model_name=\"sentence-transformers/all-MiniLM-L6-v2\") # vector length 384\n",
    "embedding_dimension = embeddings.client.get_sentence_embedding_dimension()\n",
    "\n",
    "def get_embeddings(text: str) -> list:\n",
    "    return embeddings.embed_query(text)"
   ]
  },
  {
   "cell_type": "markdown",
   "metadata": {},
   "source": [
    "## Init Azure client"
   ]
  },
  {
   "cell_type": "code",
   "execution_count": null,
   "metadata": {},
   "outputs": [],
   "source": [
    "from azure.identity import DefaultAzureCredential\n",
    "from azure.search.documents import SearchClient\n",
    "from azure.search.documents.indexes import SearchIndexClient\n",
    "# from azure.search.documents.indexes.models import SimpleField, SearchField, SearchFieldDataType, SearchIndex\n",
    "from azure.search.documents.indexes.models import (\n",
    "    HnswParameters,\n",
    "    SearchableField,\n",
    "    SearchField,\n",
    "    SearchFieldDataType,\n",
    "    SearchIndex,\n",
    "    SemanticConfiguration,\n",
    "    SemanticField,\n",
    "    SimpleField,\n",
    "    VectorSearch,\n",
    "    VectorSearchAlgorithmKind,\n",
    "    VectorSearchProfile,\n",
    ")\n",
    "\n",
    "from azure.search.documents.models import (\n",
    "    VectorQuery,\n",
    "    # VectorizedQuery, # work in 11.4.0b10\n",
    "    RawVectorQuery # work in 11.4.0\n",
    ")\n",
    "\n",
    "\n",
    "# only work in azure-search-documents==11.4.0b10\n",
    "\n",
    "# from azure.search.documents.indexes.models import (\n",
    "#     HnswParameters,\n",
    "#     SearchableField,\n",
    "#     SearchField,\n",
    "#     SearchFieldDataType,\n",
    "#     SearchIndex,\n",
    "#     SimpleField,\n",
    "#     VectorSearch,\n",
    "#     VectorSearchAlgorithmKind,\n",
    "#     VectorSearchProfile,\n",
    "#     HnswAlgorithmConfiguration\n",
    "# )"
   ]
  },
  {
   "cell_type": "code",
   "execution_count": null,
   "metadata": {},
   "outputs": [],
   "source": [
    "creds = DefaultAzureCredential()\n",
    "index_client = SearchIndexClient(AZURE_SEARCH_SERVICE, credential=creds)\n",
    "search_client = SearchClient(AZURE_SEARCH_SERVICE, AZURE_SEARCH_TINY_INDEX, credential=creds)"
   ]
  },
  {
   "cell_type": "markdown",
   "metadata": {},
   "source": [
    "### Create index"
   ]
  },
  {
   "cell_type": "code",
   "execution_count": null,
   "metadata": {},
   "outputs": [],
   "source": [
    "# SimpleField have an argument \"hidden\" which default is False, hidden=False mean retrievable=True\n",
    "\n",
    "# fields=[\n",
    "#     SimpleField(name=\"id\", type=SearchFieldDataType.String, key=True),\n",
    "#     SimpleField(name=\"metadata\", type=SearchFieldDataType.String, key=True),\n",
    "#     SearchField(\n",
    "#         name=f\"{AZURE_SEARCH_TINY_INDEX}_vector\", \n",
    "#         type=SearchFieldDataType.Collection(SearchFieldDataType.Single), \n",
    "#         searchable=True,\n",
    "#         vector_search_dimensions=embedding_dimension,\n",
    "#         vector_search_profile=\"vprofile\"\n",
    "#     )\n",
    "# ]"
   ]
  },
  {
   "cell_type": "code",
   "execution_count": null,
   "metadata": {},
   "outputs": [],
   "source": [
    "# vector_search=VectorSearch(\n",
    "#     algorithms=[\n",
    "#         HnswAlgorithmConfiguration(\n",
    "#             name=\"hnsw_algo_config\",\n",
    "#             kind=VectorSearchAlgorithmKind.HNSW,\n",
    "#             parameters=HnswParameters(metric=\"cosine\"),\n",
    "#         )\n",
    "#     ],\n",
    "#     profiles=[\n",
    "#         VectorSearchProfile(\n",
    "#             name=\"vprofile\",\n",
    "#             algorithm_configuration_name=\"hnsw_algo_config\",\n",
    "#         ),\n",
    "#     ],\n",
    "# )"
   ]
  },
  {
   "cell_type": "code",
   "execution_count": null,
   "metadata": {},
   "outputs": [],
   "source": [
    "# example: https://github.com/Azure-Samples/azure-search-openai-demo/blob/87d15fc021a2a84c4cbcbec56b2fe0560af05d52/scripts/prepdocslib/searchmanager.py#L93-L121\n",
    "# index = SearchIndex(\n",
    "#     name=AZURE_SEARCH_TINY_INDEX, \n",
    "#     fields=fields,\n",
    "#     vector_search=vector_search\n",
    "# )\n",
    "\n",
    "# await index_client.create_index(index)"
   ]
  },
  {
   "cell_type": "markdown",
   "metadata": {},
   "source": [
    "### Read ctag, embedding and upload to Azure"
   ]
  },
  {
   "cell_type": "code",
   "execution_count": null,
   "metadata": {},
   "outputs": [],
   "source": [
    "ctags_root_path = os.path.dirname(ctags_path)\n",
    "tags = read_tags_file(ctags_path)\n",
    "\n",
    "tags = tags[:1000]\n",
    "\n",
    "documents = []\n",
    "idx = 0\n",
    "for tag in tqdm(tags):\n",
    "    documents.append(\n",
    "        dict(\n",
    "            id=str(idx),\n",
    "            metadata=json.dumps(tag),\n",
    "            poc_vector=get_embeddings(f\"{tag['file_name']} | {tag['tag_name']} \")\n",
    "        )\n",
    "    )\n",
    "    idx+=1"
   ]
  },
  {
   "cell_type": "code",
   "execution_count": null,
   "metadata": {},
   "outputs": [],
   "source": [
    "search_client.upload_documents(documents=documents)"
   ]
  },
  {
   "cell_type": "markdown",
   "metadata": {},
   "source": [
    "### Search using vector similarity"
   ]
  },
  {
   "cell_type": "code",
   "execution_count": null,
   "metadata": {},
   "outputs": [],
   "source": [
    "text = \"What is langchain?\"\n",
    "\n",
    "# use VectorizedQuery in 11.4.0\n",
    "r = search_client.search(None, vector_queries=[RawVectorQuery(vector=get_embeddings(text), k=3, fields=AZURE_SEARCH_TINY_INDEX)])\n",
    "for doc in r:\n",
    "    print(f\"id: {doc['id']}, score: {doc['@search.score']}\")"
   ]
  },
  {
   "cell_type": "code",
   "execution_count": null,
   "metadata": {},
   "outputs": [],
   "source": []
  }
 ],
 "metadata": {
  "kernelspec": {
   "display_name": "aicontest",
   "language": "python",
   "name": "python3"
  },
  "language_info": {
   "codemirror_mode": {
    "name": "ipython",
    "version": 3
   },
   "file_extension": ".py",
   "mimetype": "text/x-python",
   "name": "python",
   "nbconvert_exporter": "python",
   "pygments_lexer": "ipython3",
   "version": "3.11.5"
  }
 },
 "nbformat": 4,
 "nbformat_minor": 2
}
